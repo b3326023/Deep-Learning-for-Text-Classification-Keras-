{
 "cells": [
  {
   "cell_type": "code",
   "execution_count": 219,
   "metadata": {},
   "outputs": [],
   "source": [
    "from keras.datasets import imdb\n",
    "from keras.preprocessing import sequence\n",
    "from keras.preprocessing.text import Tokenizer\n",
    "from keras.preprocessing.text import one_hot\n",
    "from keras.utils import np_utils\n",
    "from keras.models import Sequential\n",
    "from keras.layers.core import Dense,Dropout,Activation,Flatten\n",
    "from keras.layers.embeddings import Embedding\n",
    "import numpy as np\n",
    "import jieba"
   ]
  },
  {
   "cell_type": "code",
   "execution_count": 220,
   "metadata": {},
   "outputs": [],
   "source": [
    "def loadRawFile(rawFile_Path = \"\"):\n",
    "        ret_raw_set = []\n",
    "\n",
    "        for line in open(rawFile_Path,\"r\",encoding=\"utf-8\"):\n",
    "            block=[line.rstrip()[0:9],line.rstrip()[10:16],line.rstrip()[17:21],line.rstrip()[22:]]\n",
    "            ret_raw_set.append(block)\n",
    "        \n",
    "        return ret_raw_set"
   ]
  },
  {
   "cell_type": "code",
   "execution_count": 221,
   "metadata": {},
   "outputs": [],
   "source": [
    "def loadFile(trainSet_Path = \"\"):\n",
    "        ret = []\n",
    "        with open(trainSet_Path, 'r',encoding='utf-8') as f:\n",
    "            for line in f:\n",
    "                line=line.replace(' ','')\n",
    "                line=line.replace('[','')\n",
    "                line=line.replace(']','')\n",
    "                line=line.replace(\"'\",'')\n",
    "                line=line.strip()\n",
    "                line=line.split(',')\n",
    "                ret.append(line)\n",
    "        return ret"
   ]
  },
  {
   "cell_type": "code",
   "execution_count": 222,
   "metadata": {},
   "outputs": [],
   "source": [
    "def segment(train_set = [],user_dict_Path=\"\",user_stopwords_Path=\"\",jieba_dict_Path=\"\"):\n",
    "        import jieba\n",
    "        import codecs\n",
    "        from bs4 import BeautifulSoup\n",
    "        import unicodedata\n",
    "        jieba.load_userdict(jieba_dict_Path) \n",
    "        jieba.load_userdict(user_dict_Path) \n",
    "\n",
    "        stopwords = codecs.open(user_stopwords_Path,\"r\",encoding=\"utf8\").readlines()    #打開停用字檔案\n",
    "        stopwords = [ w.strip() for w in stopwords ]        #去除停用字空白\n",
    "\n",
    "        ret_train_set = []\n",
    "        for line in train_set:\n",
    "            content = BeautifulSoup(line,\"html.parser\").get_text()\n",
    "            content=unicodedata.normalize(\"NFKD\", content)          #將/xa0換成空白\n",
    "            ret_train_set.append([w for w in list(jieba.cut(content,cut_all=False)) if w not in stopwords])\n",
    "\n",
    "        return ret_train_set\n",
    "    "
   ]
  },
  {
   "cell_type": "code",
   "execution_count": 223,
   "metadata": {},
   "outputs": [],
   "source": [
    "#標籤資料原本包含eventNo,eventCode,SAC，用此function取得eventCode\n",
    "def getEventCode(y):\n",
    "    ret = []\n",
    "    for code in y:\n",
    "        ret.append(str(code[1].strip(\"\\\"\")))\n",
    "    return ret"
   ]
  },
  {
   "cell_type": "code",
   "execution_count": 224,
   "metadata": {},
   "outputs": [],
   "source": [
    "#eventCode本有11類，用此function可以選擇某一類事件類別，做二元劃分。如:輸入0102，則劃分後僅會有\"跌倒事件\"和\"非跌倒事件\"\n",
    "def toBinaryEventCode(eventCode,code):\n",
    "    ret=eventCode.copy()\n",
    "    for i,x in enumerate(eventCode):\n",
    "        if x == code:\n",
    "            ret[i] = 1\n",
    "        else:\n",
    "            ret[i] = 0\n",
    "    return ret"
   ]
  },
  {
   "cell_type": "code",
   "execution_count": 225,
   "metadata": {},
   "outputs": [],
   "source": [
    "#應 Keras 所需，將斷詞 List之間插入一個空格\n",
    "def insertSpase(train_x):\n",
    "    Train_x = []\n",
    "    temp = \"\"\n",
    "    for x in train_x:\n",
    "        for y in x:\n",
    "            temp += ' ' + y\n",
    "        Train_x.append(temp)\n",
    "        temp = \"\"\n",
    "    return Train_x"
   ]
  },
  {
   "cell_type": "code",
   "execution_count": 226,
   "metadata": {},
   "outputs": [],
   "source": [
    "#讀取原始檔，包括文本資料 and 標籤(包含eventNo,eventCode,SAC)\n",
    "train_x = loadFile('D:/Python/高榮專案/deep learning/data/description_processed.txt')\n",
    "train_y = loadFile('D:/Python/高榮專案/deep learning/data/head_processed.txt')"
   ]
  },
  {
   "cell_type": "code",
   "execution_count": 227,
   "metadata": {},
   "outputs": [],
   "source": [
    "#取得所有資料的eventCode\n",
    "eventCode = getEventCode(train_y)"
   ]
  },
  {
   "cell_type": "code",
   "execution_count": 228,
   "metadata": {},
   "outputs": [],
   "source": [
    "#將eventCode化為 one-hot格式，共11類\n",
    "code, num_eventCode = np.unique(eventCode,return_inverse=True)\n",
    "OneHot_eventCode = np_utils.to_categorical(num_eventCode,num_classes=11)"
   ]
  },
  {
   "cell_type": "code",
   "execution_count": 62,
   "metadata": {
    "scrolled": false
   },
   "outputs": [
    {
     "name": "stdout",
     "output_type": "stream",
     "text": [
      "['0102', '0109', '0102', '0109', '0105', '0102', '0109', '0101', '0102', '0102']\n",
      "[1, 0, 1, 0, 0, 1, 0, 0, 1, 1]\n"
     ]
    }
   ],
   "source": [
    "#做二元劃分\n",
    "#binary_eventCode = toBinaryEventCode(eventCode,'0102')"
   ]
  },
  {
   "cell_type": "code",
   "execution_count": 229,
   "metadata": {},
   "outputs": [],
   "source": [
    "#應 Keras 所需，將斷詞 List之間插入一個空格\n",
    "Train_x = insertSpase(train_x)"
   ]
  },
  {
   "cell_type": "code",
   "execution_count": 230,
   "metadata": {},
   "outputs": [],
   "source": [
    "#建立斷詞器\n",
    "token = Tokenizer(num_words = 10000)\n",
    "token.fit_on_texts(Train_x)"
   ]
  },
  {
   "cell_type": "code",
   "execution_count": 231,
   "metadata": {},
   "outputs": [],
   "source": [
    "#使用斷詞器將文數字化\n",
    "Train_x_seq = token.texts_to_sequences(Train_x)  #將文本轉為數字List\n",
    "Train_x_ok = sequence.pad_sequences(Train_x_seq,maxlen=100)  #截長補短文本數字List至長度100"
   ]
  },
  {
   "cell_type": "code",
   "execution_count": 232,
   "metadata": {},
   "outputs": [
    {
     "name": "stdout",
     "output_type": "stream",
     "text": [
      "Train on 5875 samples, validate on 1469 samples\n",
      "Epoch 1/5\n",
      " - 3s - loss: 0.2311 - acc: 0.9213 - val_loss: 0.1798 - val_acc: 0.9411\n",
      "Epoch 2/5\n",
      " - 2s - loss: 0.1273 - acc: 0.9571 - val_loss: 0.0953 - val_acc: 0.9660\n",
      "Epoch 3/5\n",
      " - 2s - loss: 0.0626 - acc: 0.9796 - val_loss: 0.0690 - val_acc: 0.9746\n",
      "Epoch 4/5\n",
      " - 2s - loss: 0.0339 - acc: 0.9899 - val_loss: 0.0627 - val_acc: 0.9764\n",
      "Epoch 5/5\n",
      " - 2s - loss: 0.0180 - acc: 0.9948 - val_loss: 0.0618 - val_acc: 0.9774\n"
     ]
    }
   ],
   "source": [
    "#建立多分類模型，包含嵌入層、平坦層、一個隱藏層、輸出層，輸出層僅有十一個神經元，代表十一個事件類別，使用softmax函數，能識別十一個類別。\n",
    "mul_model = Sequential()\n",
    "mul_model.add(Embedding(output_dim=32,input_dim=10000,input_length=100))\n",
    "mul_model.add(Dropout(0.2))\n",
    "mul_model.add(Flatten())\n",
    "mul_model.add(Dense(units=256,activation='relu'))\n",
    "mul_model.add(Dropout(0.35))\n",
    "mul_model.add(Dense(units=11,activation='softmax'))\n",
    "mul_model.compile(loss='binary_crossentropy',optimizer='adam',metrics=['accuracy'])\n",
    "\n",
    "#使用OneHot_eventCode作為目標值 (多種類別)\n",
    "train_history = mul_model.fit(Train_x_ok,OneHot_eventCode,batch_size=100,epochs=5,verbose=2,validation_split=0.2)\n",
    "#預測訓練集的結果\n",
    "predict = mul_model.predict_classes(Train_x_ok)\n",
    "predict = predict.reshape(-1)"
   ]
  },
  {
   "cell_type": "code",
   "execution_count": 234,
   "metadata": {},
   "outputs": [
    {
     "name": "stdout",
     "output_type": "stream",
     "text": [
      "預測: 第 0 類\n"
     ]
    }
   ],
   "source": [
    "\n",
    "#隨意使用一筆測試資料做預測，一樣先轉為數字List，截長補短，接著丟入模型預測結果。\n",
    "inputData = ' 開錯 劑量 藥局 藥物 藥師 劑量'\n",
    "input_seq = token.texts_to_sequences([inputData])\n",
    "input_ok = sequence.pad_sequences(input_seq,maxlen=100)\n",
    "# print(input_ok)\n",
    "predict_input = model.predict_classes(input_ok)\n",
    "predict_input = predict_input.reshape(-1)\n",
    "print('預測: 第',predict_input[0],'類')"
   ]
  },
  {
   "cell_type": "code",
   "execution_count": 187,
   "metadata": {},
   "outputs": [],
   "source": [
    "# 建立二元分類模型，包含嵌入層、平坦層、一個隱藏層、輸出層，輸出層僅有一個神經元，使用sigmoid函數，僅能判別二元分類\n",
    "# bi_model = Sequential()\n",
    "# bi_model.add(Embedding(output_dim=32,input_dim=10000,input_length=100))\n",
    "# bi_model.add(Dropout(0.2))\n",
    "# bi_model.add(Flatten())\n",
    "# bi_model.add(Dense(units=256,activation='relu'))\n",
    "# bi_model.add(Dropout(0.35))\n",
    "# bi_model.add(Dense(units=1,activation='sigmoid'))\n",
    "# bi_model.compile(loss='binary_crossentropy',optimizer='adam',metrics=['accuracy'])\n",
    "\n",
    "#使用binary_eventCode作為目標值 (只有二種分類，是or不是)\n",
    "# train_history = bi_model.fit(Train_x_ok,binary_eventCode,batch_size=100,epochs=5,verbose=2,validation_split=0.2)\n",
    "\n",
    "#預測訓練集的結果\n",
    "# predict = bi_model.predict_classes(Train_x_ok)\n",
    "# predict = predict.reshape(-1)\n"
   ]
  },
  {
   "cell_type": "code",
   "execution_count": null,
   "metadata": {},
   "outputs": [],
   "source": [
    "#隨意使用一筆測試資料做預測，一樣先轉為數字List，截長補短，接著丟入模型預測結果。\n",
    "# inputData = '滑倒 意識 骨盆 輕微 碎裂 脊椎 骨折 膝蓋'\n",
    "# input_seq = token.texts_to_sequences([inputData])\n",
    "# input_ok = sequence.pad_sequences(input_seq,maxlen=100)\n",
    "\n",
    "# predict_input = bi_model.predict_classes(input_ok)\n",
    "# predict_input = predict_input.reshape(-1)\n",
    "# print('預測:',predict_input[0])"
   ]
  }
 ],
 "metadata": {
  "kernelspec": {
   "display_name": "Python 3",
   "language": "python",
   "name": "python3"
  },
  "language_info": {
   "codemirror_mode": {
    "name": "ipython",
    "version": 3
   },
   "file_extension": ".py",
   "mimetype": "text/x-python",
   "name": "python",
   "nbconvert_exporter": "python",
   "pygments_lexer": "ipython3",
   "version": "3.5.4"
  }
 },
 "nbformat": 4,
 "nbformat_minor": 2
}
